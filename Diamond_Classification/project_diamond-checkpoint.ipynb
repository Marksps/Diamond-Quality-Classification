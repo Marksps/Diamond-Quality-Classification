{
  "nbformat": 4,
  "nbformat_minor": 0,
  "metadata": {
    "colab": {
      "provenance": [],
      "collapsed_sections": [
        "w0M0A8FV2i85",
        "qZvJM_egGrmm",
        "_vFhac62IpPM",
        "o0LE9Ib1IlIN",
        "yNU-uYM1C88t",
        "mSSv0fMMDDoV",
        "AeDxKtBWtE8W"
      ]
    },
    "kernelspec": {
      "name": "python3",
      "display_name": "Python 3"
    },
    "language_info": {
      "name": "python"
    }
  },
  "cells": [
    {
      "cell_type": "markdown",
      "source": [
        "# Coding"
      ],
      "metadata": {
        "id": "w0M0A8FV2i85"
      }
    },
    {
      "cell_type": "code",
      "source": [
        "import os\n",
        "import glob\n",
        "import numpy as np\n",
        "from tensorflow.keras import layers\n",
        "from tensorflow import keras \n",
        "import tensorflow as tf\n",
        "import pathlib\n",
        "import matplotlib.pyplot as plt\n",
        "from keras import regularizers\n",
        "from IPython.display import Image"
      ],
      "metadata": {
        "id": "bjMqvePG2qI7"
      },
      "execution_count": 1,
      "outputs": []
    },
    {
      "cell_type": "code",
      "source": [
        "datadir = \"/content/drive/MyDrive/โครงงาน เพชร/รูป diamond symmetry\" #path ของ dataset\n",
        "data = pathlib.Path(datadir)   \n",
        "image_count = len(list(data.glob('*/*.jpg')))  #ขนาดของ dataset \n",
        "print(\"จำนวนรูปภาพที่มี : \",image_count)"
      ],
      "metadata": {
        "colab": {
          "base_uri": "https://localhost:8080/"
        },
        "id": "yXirrgo_2vrF",
        "outputId": "19a38001-9ff2-46d9-c8bb-ffde93ad199d"
      },
      "execution_count": 2,
      "outputs": [
        {
          "output_type": "stream",
          "name": "stdout",
          "text": [
            "จำนวนรูปภาพที่มี :  600\n"
          ]
        }
      ]
    },
    {
      "cell_type": "code",
      "source": [
        "test_datadir = \"/content/drive/MyDrive/โครงงาน เพชร/test picture\" #path ของ dataset\n",
        "test_data = pathlib.Path(test_datadir)   \n",
        "image_count = len(list(test_data.glob('*/*.jpg')))  #ขนาดของ dataset \n",
        "print(\"จำนวนรูปภาพที่มี .jpg : \",image_count)"
      ],
      "metadata": {
        "colab": {
          "base_uri": "https://localhost:8080/"
        },
        "id": "n6XO2D76qGk0",
        "outputId": "272910ae-e49d-4acf-c598-e605176cc564"
      },
      "execution_count": 3,
      "outputs": [
        {
          "output_type": "stream",
          "name": "stdout",
          "text": [
            "จำนวนรูปภาพที่มี .jpg :  91\n"
          ]
        }
      ]
    },
    {
      "cell_type": "code",
      "source": [
        "train = tf.keras.preprocessing.image_dataset_from_directory(\n",
        "  data,\n",
        "  validation_split=0.2,  \n",
        "  subset=\"training\",\n",
        "  batch_size=32,\n",
        "  seed=123)\n",
        "val = tf.keras.preprocessing.image_dataset_from_directory(\n",
        "  data,\n",
        "  validation_split=0.2,\n",
        "  batch_size=32,\n",
        "  subset=\"validation\",\n",
        "  seed=123)\n",
        "test = tf.keras.preprocessing.image_dataset_from_directory(\n",
        "  test_data,  \n",
        "  seed=123)"
      ],
      "metadata": {
        "colab": {
          "base_uri": "https://localhost:8080/"
        },
        "id": "1HSjEfvA2x8j",
        "outputId": "6bc07fec-1e84-41fa-f0e4-dd9048a20388"
      },
      "execution_count": 4,
      "outputs": [
        {
          "output_type": "stream",
          "name": "stdout",
          "text": [
            "Found 600 files belonging to 3 classes.\n",
            "Using 480 files for training.\n",
            "Found 600 files belonging to 3 classes.\n",
            "Using 120 files for validation.\n",
            "Found 91 files belonging to 3 classes.\n"
          ]
        }
      ]
    },
    {
      "cell_type": "code",
      "source": [
        "import matplotlib.pyplot as plt\n",
        "\n",
        "plt.figure(figsize=(10, 10))\n",
        "for images, labels in train.take(1):\n",
        "  for i in range(9):\n",
        "    ax = plt.subplot(3, 3, i + 1)\n",
        "    plt.imshow(images[i].numpy().astype(\"uint8\"))\n",
        "    plt.title(class_names[labels[i]])\n",
        "    plt.axis(\"off\")"
      ],
      "metadata": {
        "id": "AqqyoR_hfs2N",
        "outputId": "a66f0623-1709-4f8c-a08b-e16c44c60f50",
        "colab": {
          "base_uri": "https://localhost:8080/",
          "height": 413
        }
      },
      "execution_count": 5,
      "outputs": [
        {
          "output_type": "error",
          "ename": "NameError",
          "evalue": "ignored",
          "traceback": [
            "\u001b[0;31m---------------------------------------------------------------------------\u001b[0m",
            "\u001b[0;31mNameError\u001b[0m                                 Traceback (most recent call last)",
            "\u001b[0;32m<ipython-input-5-59001980c5b0>\u001b[0m in \u001b[0;36m<module>\u001b[0;34m\u001b[0m\n\u001b[1;32m      6\u001b[0m     \u001b[0max\u001b[0m \u001b[0;34m=\u001b[0m \u001b[0mplt\u001b[0m\u001b[0;34m.\u001b[0m\u001b[0msubplot\u001b[0m\u001b[0;34m(\u001b[0m\u001b[0;36m3\u001b[0m\u001b[0;34m,\u001b[0m \u001b[0;36m3\u001b[0m\u001b[0;34m,\u001b[0m \u001b[0mi\u001b[0m \u001b[0;34m+\u001b[0m \u001b[0;36m1\u001b[0m\u001b[0;34m)\u001b[0m\u001b[0;34m\u001b[0m\u001b[0;34m\u001b[0m\u001b[0m\n\u001b[1;32m      7\u001b[0m     \u001b[0mplt\u001b[0m\u001b[0;34m.\u001b[0m\u001b[0mimshow\u001b[0m\u001b[0;34m(\u001b[0m\u001b[0mimages\u001b[0m\u001b[0;34m[\u001b[0m\u001b[0mi\u001b[0m\u001b[0;34m]\u001b[0m\u001b[0;34m.\u001b[0m\u001b[0mnumpy\u001b[0m\u001b[0;34m(\u001b[0m\u001b[0;34m)\u001b[0m\u001b[0;34m.\u001b[0m\u001b[0mastype\u001b[0m\u001b[0;34m(\u001b[0m\u001b[0;34m\"uint8\"\u001b[0m\u001b[0;34m)\u001b[0m\u001b[0;34m)\u001b[0m\u001b[0;34m\u001b[0m\u001b[0;34m\u001b[0m\u001b[0m\n\u001b[0;32m----> 8\u001b[0;31m     \u001b[0mplt\u001b[0m\u001b[0;34m.\u001b[0m\u001b[0mtitle\u001b[0m\u001b[0;34m(\u001b[0m\u001b[0mclass_names\u001b[0m\u001b[0;34m[\u001b[0m\u001b[0mlabels\u001b[0m\u001b[0;34m[\u001b[0m\u001b[0mi\u001b[0m\u001b[0;34m]\u001b[0m\u001b[0;34m]\u001b[0m\u001b[0;34m)\u001b[0m\u001b[0;34m\u001b[0m\u001b[0;34m\u001b[0m\u001b[0m\n\u001b[0m\u001b[1;32m      9\u001b[0m     \u001b[0mplt\u001b[0m\u001b[0;34m.\u001b[0m\u001b[0maxis\u001b[0m\u001b[0;34m(\u001b[0m\u001b[0;34m\"off\"\u001b[0m\u001b[0;34m)\u001b[0m\u001b[0;34m\u001b[0m\u001b[0;34m\u001b[0m\u001b[0m\n",
            "\u001b[0;31mNameError\u001b[0m: name 'class_names' is not defined"
          ]
        },
        {
          "output_type": "display_data",
          "data": {
            "text/plain": [
              "<Figure size 720x720 with 1 Axes>"
            ],
            "image/png": "[encoded data removed]"
          },
          "metadata": {
            "needs_background": "light"
          }
        }
      ]
    },
    {
      "cell_type": "code",
      "source": [
        "plt.figure(figsize=(10, 10))\n",
        "for images, _ in train.take(1):\n",
        "  for i in range(9):\n",
        "    ax = plt.subplot(3, 3, i + 1)\n",
        "    plt.imshow(images[0].numpy().astype(\"uint8\"))\n",
        "    plt.axis(\"off\")"
      ],
      "metadata": {
        "colab": {
          "base_uri": "https://localhost:8080/",
          "height": 575
        },
        "id": "ep65TN3Ve6fW",
        "outputId": "ea1d2f4b-a735-48a1-fbad-27a583a8bd93"
      },
      "execution_count": 6,
      "outputs": [
        {
          "output_type": "display_data",
          "data": {
            "text/plain": [
              "<Figure size 720x720 with 9 Axes>"
            ],
            "image/png": "[encoded data removed]"
          },
          "metadata": {
            "needs_background": "light"
          }
        }
      ]
    },
    {
      "cell_type": "code",
      "source": [
        "data_augmentation = tf.keras.Sequential([\n",
        "  layers.RandomFlip(\"horizontal_and_vertical\"),\n",
        "  layers.RandomRotation(0.2),\n",
        "])"
      ],
      "metadata": {
        "id": "o8bu-AwSJKSg"
      },
      "execution_count": 7,
      "outputs": []
    },
    {
      "cell_type": "code",
      "source": [
        "img_cols = 256\n",
        "img_rows = 256\n",
        "test_path = (\"/content/drive/MyDrive/โครงงาน เพชร/test picture/Excellent/6.jpg\")\n",
        "img = keras.preprocessing.image.load_img(test_path, target_size=(img_rows, img_cols))\n",
        "img_array = keras.preprocessing.image.img_to_array(img)\n",
        "img_array = tf.expand_dims(img_array, 0) # Create a batch\n",
        "predictions = model.predict(img_array)\n",
        "score = tf.nn.softmax(predictions[0])\n",
        "print(\"3_Stone = \",score[0].numpy() * 100,\"\\nHalo = \",score[1].numpy() * 100,\"\\nSolitaire = \",score[2].numpy() * 100)\n",
        "display(Image(filename=test_path))\n",
        "print(\"Accuracy is {} {:.2f}%.\".format(class_names[np.argmax(score)], 100 * np.max(score)))"
      ],
      "metadata": {
        "id": "X3eo5PCi_G9w"
      },
      "execution_count": null,
      "outputs": []
    },
    {
      "cell_type": "code",
      "source": [
        "class_names = train.class_names\n",
        "num_classes = len(class_names)\n",
        "model = tf.keras.Sequential([\n",
        "    layers.Rescaling(1./255, input_shape=(256, 256, 3)),\n",
        "    layers.Conv2D(16, 3, padding='same', activation='relu'),\n",
        "    layers.MaxPooling2D(),\n",
        "    layers.Conv2D(32, 3, padding='same', activation='relu'),\n",
        "    layers.MaxPooling2D(),\n",
        "    layers.Conv2D(64, 3, padding='same', activation='relu'),\n",
        "    layers.MaxPooling2D(),\n",
        "    layers.Flatten(),\n",
        "    layers.Dense(64,kernel_regularizer=regularizers.l2(0.0001), activation='relu'),\n",
        "    layers.Dropout(0.5),\n",
        "    layers.Dense(num_classes, activation='softmax')\n",
        "])\n",
        "model.compile(loss = tf.keras.losses.SparseCategoricalCrossentropy(),\n",
        "              optimizer = 'adam', metrics = ['accuracy'])\n",
        "earlystopping = keras.callbacks.EarlyStopping(monitor='val_loss',\n",
        "                              min_delta=0,\n",
        "                              patience=10,\n",
        "                              verbose=0, mode='auto') \n",
        "epochs=20\n",
        "history = model.fit(train,validation_data=val,epochs=epochs,callbacks=earlystopping)"
      ],
      "metadata": {
        "id": "r-jHlJGY3SOM",
        "colab": {
          "base_uri": "https://localhost:8080/"
        },
        "outputId": "f6b4588d-df99-4e3d-d99b-e6bbff1d48f8"
      },
      "execution_count": 9,
      "outputs": [
        {
          "output_type": "stream",
          "name": "stdout",
          "text": [
            "Epoch 1/20\n",
            "15/15 [==============================] - 69s 4s/step - loss: 1.3375 - accuracy: 0.3125 - val_loss: 1.1063 - val_accuracy: 0.3167\n",
            "Epoch 2/20\n",
            "15/15 [==============================] - 41s 2s/step - loss: 1.1128 - accuracy: 0.3354 - val_loss: 1.1004 - val_accuracy: 0.3083\n",
            "Epoch 3/20\n",
            "15/15 [==============================] - 39s 2s/step - loss: 1.0426 - accuracy: 0.4229 - val_loss: 0.9394 - val_accuracy: 0.6083\n",
            "Epoch 4/20\n",
            "15/15 [==============================] - 40s 2s/step - loss: 0.9022 - accuracy: 0.5312 - val_loss: 0.9223 - val_accuracy: 0.5667\n",
            "Epoch 5/20\n",
            "15/15 [==============================] - 39s 2s/step - loss: 0.8864 - accuracy: 0.5375 - val_loss: 0.8224 - val_accuracy: 0.5917\n",
            "Epoch 6/20\n",
            "15/15 [==============================] - 42s 3s/step - loss: 0.8468 - accuracy: 0.5646 - val_loss: 0.7992 - val_accuracy: 0.6500\n",
            "Epoch 7/20\n",
            "15/15 [==============================] - 39s 2s/step - loss: 0.8353 - accuracy: 0.5792 - val_loss: 0.7778 - val_accuracy: 0.5750\n",
            "Epoch 8/20\n",
            "15/15 [==============================] - 38s 2s/step - loss: 0.8025 - accuracy: 0.5771 - val_loss: 0.7525 - val_accuracy: 0.6167\n",
            "Epoch 9/20\n",
            "15/15 [==============================] - 39s 2s/step - loss: 0.7692 - accuracy: 0.5833 - val_loss: 0.7944 - val_accuracy: 0.5833\n",
            "Epoch 10/20\n",
            "15/15 [==============================] - 41s 2s/step - loss: 0.7819 - accuracy: 0.5979 - val_loss: 0.8142 - val_accuracy: 0.6000\n",
            "Epoch 11/20\n",
            "15/15 [==============================] - 38s 2s/step - loss: 0.7998 - accuracy: 0.5646 - val_loss: 0.7451 - val_accuracy: 0.6000\n",
            "Epoch 12/20\n",
            "15/15 [==============================] - 39s 2s/step - loss: 0.7461 - accuracy: 0.6062 - val_loss: 0.7529 - val_accuracy: 0.5917\n",
            "Epoch 13/20\n",
            "15/15 [==============================] - 41s 3s/step - loss: 0.7446 - accuracy: 0.6104 - val_loss: 0.7601 - val_accuracy: 0.5917\n",
            "Epoch 14/20\n",
            "15/15 [==============================] - 39s 2s/step - loss: 0.7014 - accuracy: 0.6229 - val_loss: 0.7563 - val_accuracy: 0.6417\n",
            "Epoch 15/20\n",
            "15/15 [==============================] - 38s 2s/step - loss: 0.7201 - accuracy: 0.6292 - val_loss: 0.8225 - val_accuracy: 0.6917\n",
            "Epoch 16/20\n",
            "15/15 [==============================] - 39s 2s/step - loss: 0.7168 - accuracy: 0.6125 - val_loss: 0.7442 - val_accuracy: 0.6167\n",
            "Epoch 17/20\n",
            "15/15 [==============================] - 40s 2s/step - loss: 0.6634 - accuracy: 0.6625 - val_loss: 0.7677 - val_accuracy: 0.6417\n",
            "Epoch 18/20\n",
            "15/15 [==============================] - 38s 2s/step - loss: 0.6171 - accuracy: 0.6896 - val_loss: 0.8489 - val_accuracy: 0.6583\n",
            "Epoch 19/20\n",
            "15/15 [==============================] - 38s 2s/step - loss: 0.6230 - accuracy: 0.7063 - val_loss: 0.8263 - val_accuracy: 0.6750\n",
            "Epoch 20/20\n",
            "15/15 [==============================] - 38s 2s/step - loss: 0.6580 - accuracy: 0.6687 - val_loss: 0.8016 - val_accuracy: 0.7000\n"
          ]
        }
      ]
    },
    {
      "cell_type": "code",
      "source": [
        "acc = history.history['accuracy']\n",
        "val_acc = history.history['val_accuracy']\n",
        "\n",
        "loss = history.history['loss']\n",
        "val_loss = history.history['val_loss']\n",
        "\n",
        "epochs_range = range(14)\n",
        "\n",
        "plt.figure(figsize=(8, 8))\n",
        "plt.subplot(1, 2, 1)\n",
        "plt.plot(epochs_range, acc, label='Training Accuracy')\n",
        "plt.plot(epochs_range, val_acc, label='Validation Accuracy')\n",
        "plt.legend(loc='lower right')\n",
        "plt.title('Training and Validation Accuracy')\n",
        "\n",
        "plt.subplot(1, 2, 2)\n",
        "plt.plot(epochs_range, loss, label='Training Loss')\n",
        "plt.plot(epochs_range, val_loss, label='Validation Loss')\n",
        "plt.legend(loc='upper right')\n",
        "plt.title('Training and Validation Loss')\n",
        "plt.show()"
      ],
      "metadata": {
        "id": "RivkiNtZXqdW",
        "colab": {
          "base_uri": "https://localhost:8080/",
          "height": 852
        },
        "outputId": "e0ef7ad3-6552-4402-ff4b-c48b56395544"
      },
      "execution_count": 10,
      "outputs": [
        {
          "output_type": "error",
          "ename": "ValueError",
          "evalue": "ignored",
          "traceback": [
            "\u001b[0;31m---------------------------------------------------------------------------\u001b[0m",
            "\u001b[0;31mValueError\u001b[0m                                Traceback (most recent call last)",
            "\u001b[0;32m<ipython-input-10-f38ddef2d65c>\u001b[0m in \u001b[0;36m<module>\u001b[0;34m\u001b[0m\n\u001b[1;32m      9\u001b[0m \u001b[0mplt\u001b[0m\u001b[0;34m.\u001b[0m\u001b[0mfigure\u001b[0m\u001b[0;34m(\u001b[0m\u001b[0mfigsize\u001b[0m\u001b[0;34m=\u001b[0m\u001b[0;34m(\u001b[0m\u001b[0;36m8\u001b[0m\u001b[0;34m,\u001b[0m \u001b[0;36m8\u001b[0m\u001b[0;34m)\u001b[0m\u001b[0;34m)\u001b[0m\u001b[0;34m\u001b[0m\u001b[0;34m\u001b[0m\u001b[0m\n\u001b[1;32m     10\u001b[0m \u001b[0mplt\u001b[0m\u001b[0;34m.\u001b[0m\u001b[0msubplot\u001b[0m\u001b[0;34m(\u001b[0m\u001b[0;36m1\u001b[0m\u001b[0;34m,\u001b[0m \u001b[0;36m2\u001b[0m\u001b[0;34m,\u001b[0m \u001b[0;36m1\u001b[0m\u001b[0;34m)\u001b[0m\u001b[0;34m\u001b[0m\u001b[0;34m\u001b[0m\u001b[0m\n\u001b[0;32m---> 11\u001b[0;31m \u001b[0mplt\u001b[0m\u001b[0;34m.\u001b[0m\u001b[0mplot\u001b[0m\u001b[0;34m(\u001b[0m\u001b[0mepochs_range\u001b[0m\u001b[0;34m,\u001b[0m \u001b[0macc\u001b[0m\u001b[0;34m,\u001b[0m \u001b[0mlabel\u001b[0m\u001b[0;34m=\u001b[0m\u001b[0;34m'Training Accuracy'\u001b[0m\u001b[0;34m)\u001b[0m\u001b[0;34m\u001b[0m\u001b[0;34m\u001b[0m\u001b[0m\n\u001b[0m\u001b[1;32m     12\u001b[0m \u001b[0mplt\u001b[0m\u001b[0;34m.\u001b[0m\u001b[0mplot\u001b[0m\u001b[0;34m(\u001b[0m\u001b[0mepochs_range\u001b[0m\u001b[0;34m,\u001b[0m \u001b[0mval_acc\u001b[0m\u001b[0;34m,\u001b[0m \u001b[0mlabel\u001b[0m\u001b[0;34m=\u001b[0m\u001b[0;34m'Validation Accuracy'\u001b[0m\u001b[0;34m)\u001b[0m\u001b[0;34m\u001b[0m\u001b[0;34m\u001b[0m\u001b[0m\n\u001b[1;32m     13\u001b[0m \u001b[0mplt\u001b[0m\u001b[0;34m.\u001b[0m\u001b[0mlegend\u001b[0m\u001b[0;34m(\u001b[0m\u001b[0mloc\u001b[0m\u001b[0;34m=\u001b[0m\u001b[0;34m'lower right'\u001b[0m\u001b[0;34m)\u001b[0m\u001b[0;34m\u001b[0m\u001b[0;34m\u001b[0m\u001b[0m\n",
            "\u001b[0;32m/usr/local/lib/python3.7/dist-packages/matplotlib/pyplot.py\u001b[0m in \u001b[0;36mplot\u001b[0;34m(scalex, scaley, data, *args, **kwargs)\u001b[0m\n\u001b[1;32m   2761\u001b[0m     return gca().plot(\n\u001b[1;32m   2762\u001b[0m         *args, scalex=scalex, scaley=scaley, **({\"data\": data} if data\n\u001b[0;32m-> 2763\u001b[0;31m         is not None else {}), **kwargs)\n\u001b[0m\u001b[1;32m   2764\u001b[0m \u001b[0;34m\u001b[0m\u001b[0m\n\u001b[1;32m   2765\u001b[0m \u001b[0;34m\u001b[0m\u001b[0m\n",
            "\u001b[0;32m/usr/local/lib/python3.7/dist-packages/matplotlib/axes/_axes.py\u001b[0m in \u001b[0;36mplot\u001b[0;34m(self, scalex, scaley, data, *args, **kwargs)\u001b[0m\n\u001b[1;32m   1645\u001b[0m         \"\"\"\n\u001b[1;32m   1646\u001b[0m         \u001b[0mkwargs\u001b[0m \u001b[0;34m=\u001b[0m \u001b[0mcbook\u001b[0m\u001b[0;34m.\u001b[0m\u001b[0mnormalize_kwargs\u001b[0m\u001b[0;34m(\u001b[0m\u001b[0mkwargs\u001b[0m\u001b[0;34m,\u001b[0m \u001b[0mmlines\u001b[0m\u001b[0;34m.\u001b[0m\u001b[0mLine2D\u001b[0m\u001b[0;34m)\u001b[0m\u001b[0;34m\u001b[0m\u001b[0;34m\u001b[0m\u001b[0m\n\u001b[0;32m-> 1647\u001b[0;31m         \u001b[0mlines\u001b[0m \u001b[0;34m=\u001b[0m \u001b[0;34m[\u001b[0m\u001b[0;34m*\u001b[0m\u001b[0mself\u001b[0m\u001b[0;34m.\u001b[0m\u001b[0m_get_lines\u001b[0m\u001b[0;34m(\u001b[0m\u001b[0;34m*\u001b[0m\u001b[0margs\u001b[0m\u001b[0;34m,\u001b[0m \u001b[0mdata\u001b[0m\u001b[0;34m=\u001b[0m\u001b[0mdata\u001b[0m\u001b[0;34m,\u001b[0m \u001b[0;34m**\u001b[0m\u001b[0mkwargs\u001b[0m\u001b[0;34m)\u001b[0m\u001b[0;34m]\u001b[0m\u001b[0;34m\u001b[0m\u001b[0;34m\u001b[0m\u001b[0m\n\u001b[0m\u001b[1;32m   1648\u001b[0m         \u001b[0;32mfor\u001b[0m \u001b[0mline\u001b[0m \u001b[0;32min\u001b[0m \u001b[0mlines\u001b[0m\u001b[0;34m:\u001b[0m\u001b[0;34m\u001b[0m\u001b[0;34m\u001b[0m\u001b[0m\n\u001b[1;32m   1649\u001b[0m             \u001b[0mself\u001b[0m\u001b[0;34m.\u001b[0m\u001b[0madd_line\u001b[0m\u001b[0;34m(\u001b[0m\u001b[0mline\u001b[0m\u001b[0;34m)\u001b[0m\u001b[0;34m\u001b[0m\u001b[0;34m\u001b[0m\u001b[0m\n",
            "\u001b[0;32m/usr/local/lib/python3.7/dist-packages/matplotlib/axes/_base.py\u001b[0m in \u001b[0;36m__call__\u001b[0;34m(self, *args, **kwargs)\u001b[0m\n\u001b[1;32m    214\u001b[0m                 \u001b[0mthis\u001b[0m \u001b[0;34m+=\u001b[0m \u001b[0margs\u001b[0m\u001b[0;34m[\u001b[0m\u001b[0;36m0\u001b[0m\u001b[0;34m]\u001b[0m\u001b[0;34m,\u001b[0m\u001b[0;34m\u001b[0m\u001b[0;34m\u001b[0m\u001b[0m\n\u001b[1;32m    215\u001b[0m                 \u001b[0margs\u001b[0m \u001b[0;34m=\u001b[0m \u001b[0margs\u001b[0m\u001b[0;34m[\u001b[0m\u001b[0;36m1\u001b[0m\u001b[0;34m:\u001b[0m\u001b[0;34m]\u001b[0m\u001b[0;34m\u001b[0m\u001b[0;34m\u001b[0m\u001b[0m\n\u001b[0;32m--> 216\u001b[0;31m             \u001b[0;32myield\u001b[0m \u001b[0;32mfrom\u001b[0m \u001b[0mself\u001b[0m\u001b[0;34m.\u001b[0m\u001b[0m_plot_args\u001b[0m\u001b[0;34m(\u001b[0m\u001b[0mthis\u001b[0m\u001b[0;34m,\u001b[0m \u001b[0mkwargs\u001b[0m\u001b[0;34m)\u001b[0m\u001b[0;34m\u001b[0m\u001b[0;34m\u001b[0m\u001b[0m\n\u001b[0m\u001b[1;32m    217\u001b[0m \u001b[0;34m\u001b[0m\u001b[0m\n\u001b[1;32m    218\u001b[0m     \u001b[0;32mdef\u001b[0m \u001b[0mget_next_color\u001b[0m\u001b[0;34m(\u001b[0m\u001b[0mself\u001b[0m\u001b[0;34m)\u001b[0m\u001b[0;34m:\u001b[0m\u001b[0;34m\u001b[0m\u001b[0;34m\u001b[0m\u001b[0m\n",
            "\u001b[0;32m/usr/local/lib/python3.7/dist-packages/matplotlib/axes/_base.py\u001b[0m in \u001b[0;36m_plot_args\u001b[0;34m(self, tup, kwargs)\u001b[0m\n\u001b[1;32m    340\u001b[0m \u001b[0;34m\u001b[0m\u001b[0m\n\u001b[1;32m    341\u001b[0m         \u001b[0;32mif\u001b[0m \u001b[0mx\u001b[0m\u001b[0;34m.\u001b[0m\u001b[0mshape\u001b[0m\u001b[0;34m[\u001b[0m\u001b[0;36m0\u001b[0m\u001b[0;34m]\u001b[0m \u001b[0;34m!=\u001b[0m \u001b[0my\u001b[0m\u001b[0;34m.\u001b[0m\u001b[0mshape\u001b[0m\u001b[0;34m[\u001b[0m\u001b[0;36m0\u001b[0m\u001b[0;34m]\u001b[0m\u001b[0;34m:\u001b[0m\u001b[0;34m\u001b[0m\u001b[0;34m\u001b[0m\u001b[0m\n\u001b[0;32m--> 342\u001b[0;31m             raise ValueError(f\"x and y must have same first dimension, but \"\n\u001b[0m\u001b[1;32m    343\u001b[0m                              f\"have shapes {x.shape} and {y.shape}\")\n\u001b[1;32m    344\u001b[0m         \u001b[0;32mif\u001b[0m \u001b[0mx\u001b[0m\u001b[0;34m.\u001b[0m\u001b[0mndim\u001b[0m \u001b[0;34m>\u001b[0m \u001b[0;36m2\u001b[0m \u001b[0;32mor\u001b[0m \u001b[0my\u001b[0m\u001b[0;34m.\u001b[0m\u001b[0mndim\u001b[0m \u001b[0;34m>\u001b[0m \u001b[0;36m2\u001b[0m\u001b[0;34m:\u001b[0m\u001b[0;34m\u001b[0m\u001b[0;34m\u001b[0m\u001b[0m\n",
            "\u001b[0;31mValueError\u001b[0m: x and y must have same first dimension, but have shapes (14,) and (20,)"
          ]
        },
        {
          "output_type": "display_data",
          "data": {
            "text/plain": [
              "<Figure size 576x576 with 1 Axes>"
            ],
            "image/png": "[encoded data removed]"
          },
          "metadata": {
            "needs_background": "light"
          }
        }
      ]
    },
    {
      "cell_type": "code",
      "source": [
        "test_loss, test_acc = model.evaluate(test)\n",
        "\n",
        "print('\\nTest accuracy:', test_acc)"
      ],
      "metadata": {
        "colab": {
          "base_uri": "https://localhost:8080/"
        },
        "id": "7rRzfA7gxdDa",
        "outputId": "765a1401-9086-454f-99e5-2b50febb19d0"
      },
      "execution_count": 11,
      "outputs": [
        {
          "output_type": "stream",
          "name": "stdout",
          "text": [
            "3/3 [==============================] - 17s 554ms/step - loss: 2.7420 - accuracy: 0.5604\n",
            "\n",
            "Test accuracy: 0.5604395866394043\n"
          ]
        }
      ]
    },
    {
      "cell_type": "code",
      "source": [
        "test_loss, test_acc = model.evaluate(test)\n",
        "\n",
        "print('\\nTest accuracy:', test_acc)"
      ],
      "metadata": {
        "id": "JD-l0RJf9O3p"
      },
      "execution_count": null,
      "outputs": []
    },
    {
      "cell_type": "code",
      "source": [
        "model.compile(loss = tf.keras.losses.SparseCategoricalCrossentropy(),\n",
        "              optimizer = 'adam', metrics = ['accuracy']) "
      ],
      "metadata": {
        "id": "S9jHkTcC3gca"
      },
      "execution_count": null,
      "outputs": []
    },
    {
      "cell_type": "code",
      "source": [
        "earlystopping = keras.callbacks.EarlyStopping(monitor='val_loss',\n",
        "                              min_delta=0,\n",
        "                              patience=10,\n",
        "                              verbose=0, mode='auto')"
      ],
      "metadata": {
        "id": "pon_bjzo3jz6"
      },
      "execution_count": null,
      "outputs": []
    },
    {
      "cell_type": "code",
      "source": [
        "epochs=20\n",
        "history = model.fit(train,validation_data=val,epochs=epochs,callbacks=earlystopping\n",
        "                    )"
      ],
      "metadata": {
        "id": "yoCz9GKo3pQz"
      },
      "execution_count": null,
      "outputs": []
    },
    {
      "cell_type": "code",
      "source": [
        "from keras.preprocessing.image import ImageDataGenerator"
      ],
      "metadata": {
        "id": "GsJhmJMNDhHN"
      },
      "execution_count": null,
      "outputs": []
    },
    {
      "cell_type": "markdown",
      "source": [
        "# Setting type"
      ],
      "metadata": {
        "id": "SKcbnhgDRXvY"
      }
    },
    {
      "cell_type": "code",
      "source": [
        "datadir = \"/content/drive/MyDrive/savePicture/train3\" #path ของ dataset\n",
        "data = pathlib.Path(datadir)   \n",
        "image_count = len(list(data.glob('*/*.jpg')))  + len(list(data.glob('*/*.png'))) #ขนาดของ dataset \n",
        "print(\"จำนวนรูปภาพที่มี .jpg : \",image_count)"
      ],
      "metadata": {
        "id": "l_tBiIlSRblY"
      },
      "execution_count": null,
      "outputs": []
    },
    {
      "cell_type": "code",
      "source": [
        "train = tf.keras.preprocessing.image_dataset_from_directory(\n",
        "  data,\n",
        "  validation_split=0.2,  \n",
        "  subset=\"training\",\n",
        "  batch_size=32,\n",
        "  seed=123)\n",
        "val = tf.keras.preprocessing.image_dataset_from_directory(\n",
        "  data,\n",
        "  validation_split=0.2,\n",
        "  batch_size=32,\n",
        "  subset=\"validation\",\n",
        "  seed=123)"
      ],
      "metadata": {
        "id": "h_IPmK3uSBJR"
      },
      "execution_count": null,
      "outputs": []
    },
    {
      "cell_type": "code",
      "source": [
        "data_augmentation = tf.keras.Sequential([\n",
        "  layers.RandomFlip(\"horizontal_and_vertical\"),\n",
        "  layers.RandomRotation(0.2),\n",
        "])"
      ],
      "metadata": {
        "id": "_bYbhrdlSNaB"
      },
      "execution_count": null,
      "outputs": []
    },
    {
      "cell_type": "code",
      "source": [
        "class_names = train.class_names\n",
        "num_classes = len(class_names)\n",
        "model = tf.keras.Sequential([                      \n",
        "  layers.Rescaling(1./255),\n",
        "  layers.Conv2D(16, 3, padding='same', activation='relu'),\n",
        "  layers.MaxPooling2D(),\n",
        "  layers.Conv2D(32, 3, padding='same', activation='relu'),\n",
        "  layers.MaxPooling2D(),\n",
        "  layers.Conv2D(64, 3, padding='same', activation='relu'),\n",
        "  layers.MaxPooling2D(),\n",
        "  layers.Flatten(),\n",
        "  layers.Dense(128, activation='relu'),\n",
        "  layers.Dense(3, activation='softmax')\n",
        "])"
      ],
      "metadata": {
        "id": "Q4dWDZBpSQlq"
      },
      "execution_count": null,
      "outputs": []
    },
    {
      "cell_type": "code",
      "source": [
        "model.compile(loss = tf.keras.losses.SparseCategoricalCrossentropy(),\n",
        "              optimizer = 'adam', metrics = ['accuracy']) "
      ],
      "metadata": {
        "id": "DTpMr09rST4p"
      },
      "execution_count": null,
      "outputs": []
    },
    {
      "cell_type": "code",
      "source": [
        "earlystopping = keras.callbacks.EarlyStopping(monitor='val_loss',\n",
        "                              min_delta=0,\n",
        "                              patience=5,\n",
        "                              verbose=0, mode='auto')"
      ],
      "metadata": {
        "id": "DpBdkzB9SVpq"
      },
      "execution_count": null,
      "outputs": []
    },
    {
      "cell_type": "code",
      "source": [
        "epochs=50\n",
        "history = model.fit(train,validation_data=val,epochs=epochs,callbacks=earlystopping\n",
        "                    )"
      ],
      "metadata": {
        "id": "HWBlHjR-SXlC"
      },
      "execution_count": null,
      "outputs": []
    },
    {
      "cell_type": "code",
      "source": [
        "datadir = \"/content/drive/MyDrive/savePicture/Testpic2\" #path ของ dataset\n",
        "data = pathlib.Path(datadir)   \n",
        "image_count = len(list(data.glob('*/*.jpg'))) + len(list(data.glob('*/*.png')))  #ขนาดของ dataset \n",
        "print(\"จำนวนรูปภาพที่มี .jpg : \",image_count)"
      ],
      "metadata": {
        "id": "QuN6NfA-Sb6D"
      },
      "execution_count": null,
      "outputs": []
    },
    {
      "cell_type": "code",
      "source": [
        "data_augmentation = keras.Sequential(\n",
        "  [\n",
        "    layers.RandomFlip(\"horizontal\"),\n",
        "    layers.RandomRotation(0.1),\n",
        "    layers.RandomZoom(0.1),\n",
        "  ]\n",
        ")"
      ],
      "metadata": {
        "id": "Hd7pATaAJtFw"
      },
      "execution_count": null,
      "outputs": []
    },
    {
      "cell_type": "code",
      "source": [
        "plt.figure(figsize=(10, 10))\n",
        "for images, _ in train.take(1):\n",
        "  for i in range(9):\n",
        "    augmented_images = data_augmentation(images)\n",
        "    ax = plt.subplot(3, 3, i + 1)\n",
        "    plt.imshow(augmented_images[0].numpy().astype(\"uint8\"))\n",
        "    plt.axis(\"off\")"
      ],
      "metadata": {
        "id": "Dz_CuFerJz1p"
      },
      "execution_count": null,
      "outputs": []
    },
    {
      "cell_type": "code",
      "source": [
        "test = tf.keras.preprocessing.image_dataset_from_directory(\n",
        "  data,  \n",
        "  seed=123)"
      ],
      "metadata": {
        "id": "EXX-3qeZSeyp"
      },
      "execution_count": null,
      "outputs": []
    },
    {
      "cell_type": "code",
      "source": [
        "test_loss, test_acc = model.evaluate(test)\n",
        "\n",
        "print('\\nTest accuracy:', test_acc)"
      ],
      "metadata": {
        "id": "DyWJj_u6Snaw"
      },
      "execution_count": null,
      "outputs": []
    },
    {
      "cell_type": "code",
      "source": [
        "history.history['accuracy']"
      ],
      "metadata": {
        "id": "vdv1-3LHBBO7"
      },
      "execution_count": null,
      "outputs": []
    },
    {
      "cell_type": "code",
      "source": [
        "acc = history.history['accuracy']\n",
        "val_acc = history.history['val_accuracy']\n",
        "\n",
        "loss = history.history['loss']\n",
        "val_loss = history.history['val_loss']\n",
        "\n",
        "epochs_range = range(20)\n",
        "\n",
        "plt.figure(figsize=(8, 8))\n",
        "plt.subplot(1, 2, 1)\n",
        "plt.plot(epochs_range, acc, label='Training Accuracy')\n",
        "plt.plot(epochs_range, val_acc, label='Validation Accuracy')\n",
        "plt.legend(loc='lower right')\n",
        "plt.title('Training and Validation Accuracy')\n",
        "\n",
        "plt.subplot(1, 2, 2)\n",
        "plt.plot(epochs_range, loss, label='Training Loss')\n",
        "plt.plot(epochs_range, val_loss, label='Validation Loss')\n",
        "plt.legend(loc='upper right')\n",
        "plt.title('Training and Validation Loss')\n",
        "plt.show()"
      ],
      "metadata": {
        "id": "AaDhPWvGAqlS"
      },
      "execution_count": null,
      "outputs": []
    },
    {
      "cell_type": "markdown",
      "source": [
        "# ganerator"
      ],
      "metadata": {
        "id": "qZvJM_egGrmm"
      }
    },
    {
      "cell_type": "code",
      "source": [
        "def make_generator():\n",
        "    train_datagen = ImageDataGenerator(rescale=1. / 255)\n",
        "    datadir = \"/content/drive/MyDrive/โครงงาน เพชร/รูป diamond symmetry\"\n",
        "    train_generator = train_datagen.flow_from_directory(datadir,target_size=(224, 224), class_mode='categorical', batch_size=32)\n",
        "    return train_generator\n",
        "\n",
        "train_dataset = tf.data.Dataset.from_generator(make_generator,(tf.float32, tf.float32))"
      ],
      "metadata": {
        "id": "w3n8hPkiGuve"
      },
      "execution_count": null,
      "outputs": []
    },
    {
      "cell_type": "code",
      "source": [
        "train_dataset"
      ],
      "metadata": {
        "id": "2q-FSJBOHCb1"
      },
      "execution_count": null,
      "outputs": []
    },
    {
      "cell_type": "markdown",
      "source": [
        "# Test picture"
      ],
      "metadata": {
        "id": "_vFhac62IpPM"
      }
    },
    {
      "cell_type": "code",
      "source": [
        "datadir = \"/content/drive/MyDrive/โครงงาน เพชร/test picture\" #path ของ dataset\n",
        "data = pathlib.Path(datadir)   \n",
        "image_count = len(list(data.glob('*/*.jpg')))  #ขนาดของ dataset \n",
        "print(\"จำนวนรูปภาพที่มี .jpg : \",image_count)"
      ],
      "metadata": {
        "id": "DA_gRrdBItxM"
      },
      "execution_count": null,
      "outputs": []
    },
    {
      "cell_type": "code",
      "source": [
        "test = tf.keras.preprocessing.image_dataset_from_directory(\n",
        "  data,  \n",
        "  seed=123)"
      ],
      "metadata": {
        "id": "zMrCkH2tMY0O"
      },
      "execution_count": null,
      "outputs": []
    },
    {
      "cell_type": "code",
      "source": [
        "def process(image,label):\n",
        "    image = tf.cast(image/255. ,tf.float32)\n",
        "    return image,label"
      ],
      "metadata": {
        "id": "5GR2pp6TC_ju"
      },
      "execution_count": null,
      "outputs": []
    },
    {
      "cell_type": "code",
      "source": [
        "test = test.map(process)"
      ],
      "metadata": {
        "id": "hlilRG-O11h7"
      },
      "execution_count": null,
      "outputs": []
    },
    {
      "cell_type": "code",
      "source": [
        "test_loss, test_acc = model.evaluate(test)\n",
        "\n",
        "print('\\nTest accuracy:', test_acc)"
      ],
      "metadata": {
        "id": "kYc5rXeGMnIF"
      },
      "execution_count": null,
      "outputs": []
    },
    {
      "cell_type": "code",
      "source": [
        "test"
      ],
      "metadata": {
        "id": "ILXPJShT5xPq"
      },
      "execution_count": null,
      "outputs": []
    },
    {
      "cell_type": "markdown",
      "source": [
        "# Code 2"
      ],
      "metadata": {
        "id": "o0LE9Ib1IlIN"
      }
    },
    {
      "cell_type": "code",
      "execution_count": null,
      "metadata": {
        "id": "D3OqFFw8aeP_"
      },
      "outputs": [],
      "source": [
        "import os\n",
        "import glob\n",
        "import numpy as np\n",
        "from tensorflow.keras import layers\n",
        "from tensorflow import keras \n",
        "import tensorflow as tf"
      ]
    },
    {
      "cell_type": "code",
      "source": [
        "import pathlib"
      ],
      "metadata": {
        "id": "ONVJMbiVa8NA"
      },
      "execution_count": null,
      "outputs": []
    },
    {
      "cell_type": "code",
      "source": [
        "datadir = \"/content/drive/MyDrive/โครงงาน เพชร/รูป diamond symmetry\" #path ของ dataset\n",
        "data = pathlib.Path(datadir)   \n",
        "image_count = len(list(data.glob('*/*.jpg')))  #ขนาดของ dataset \n",
        "print(\"จำนวนรูปภาพที่มี .jpg : \",image_count)"
      ],
      "metadata": {
        "id": "RsMB2z8TbXzH"
      },
      "execution_count": null,
      "outputs": []
    },
    {
      "cell_type": "code",
      "source": [
        "train = tf.keras.preprocessing.image_dataset_from_directory(\n",
        "  data,\n",
        "  validation_split=0.2,\n",
        "  labels = \"inferred\",\n",
        "  label_mode = \"categorical\", \n",
        "  subset=\"training\",\n",
        "  batch_size=32,\n",
        "  seed=123)\n",
        "val = tf.keras.preprocessing.image_dataset_from_directory(\n",
        "  data,\n",
        "  validation_split=0.2,\n",
        "  labels = \"inferred\",\n",
        "  label_mode = \"categorical\", \n",
        "  batch_size=32,\n",
        "  subset=\"validation\",\n",
        "  seed=123)"
      ],
      "metadata": {
        "id": "evQUeSXN45ZD"
      },
      "execution_count": null,
      "outputs": []
    },
    {
      "cell_type": "code",
      "source": [
        "train = tf.keras.preprocessing.image_dataset_from_directory(\n",
        "  data,\n",
        "  validation_split=0.2,  \n",
        "  subset=\"training\",\n",
        "  batch_size=32,\n",
        "  seed=123)\n",
        "val = tf.keras.preprocessing.image_dataset_from_directory(\n",
        "  data,\n",
        "  validation_split=0.2,\n",
        "  batch_size=32,\n",
        "  subset=\"validation\",\n",
        "  seed=123)"
      ],
      "metadata": {
        "id": "5EBzNSs6bkGf"
      },
      "execution_count": null,
      "outputs": []
    },
    {
      "cell_type": "code",
      "source": [
        "class_names = train.class_names\n",
        "print(class_names)"
      ],
      "metadata": {
        "id": "yVWqCEbFb80H"
      },
      "execution_count": null,
      "outputs": []
    },
    {
      "cell_type": "markdown",
      "source": [
        "## ปริ๊นรูป"
      ],
      "metadata": {
        "id": "yNU-uYM1C88t"
      }
    },
    {
      "cell_type": "code",
      "source": [
        "images[1].numpy()"
      ],
      "metadata": {
        "id": "NILEGHgGzpgo"
      },
      "execution_count": null,
      "outputs": []
    },
    {
      "cell_type": "code",
      "source": [
        "import matplotlib.pyplot as plt\n",
        "import numpy as np\n",
        "#create data of shape (256,256,1)\n",
        "data = np.random.rand(256,256,1)*255\n",
        "im = data.astype(np.uint8)\n",
        "print im.shape # prints (256L, 256L, 1L)\n",
        "# (256,256,1) cannot be plotted, therefore \n",
        "# we need to get rid of the last dimension:\n",
        "im = im[:,:,0]\n",
        "print im.shape # (256L, 256L)\n",
        "# now the image can be plotted\n",
        "plt.imshow(im, cmap=\"gray\")\n",
        "plt.show()"
      ],
      "metadata": {
        "id": "ogxThMJb0wTK"
      },
      "execution_count": null,
      "outputs": []
    },
    {
      "cell_type": "code",
      "source": [
        "images[1].numpy().astype('uint8')"
      ],
      "metadata": {
        "id": "R8k8BLNy2oLa"
      },
      "execution_count": null,
      "outputs": []
    },
    {
      "cell_type": "code",
      "source": [
        "ima = images[1].numpy().astype('uint8')"
      ],
      "metadata": {
        "id": "dUhREZtx2dlp"
      },
      "execution_count": null,
      "outputs": []
    },
    {
      "cell_type": "code",
      "source": [
        "print(ima.shape)"
      ],
      "metadata": {
        "id": "4ToSjesQ3Heh"
      },
      "execution_count": null,
      "outputs": []
    },
    {
      "cell_type": "code",
      "source": [
        "ima = images[1].numpy().astype('uint8')\n",
        "\n",
        "print(ima.shape) # (256L, 256L)\n",
        "# now the image can be plotted\n",
        "plt.imshow(ima, cmap=\"gray\")\n",
        "plt.show()"
      ],
      "metadata": {
        "id": "fMmI6a83zmyg"
      },
      "execution_count": null,
      "outputs": []
    },
    {
      "cell_type": "code",
      "source": [
        "import matplotlib.pyplot as plt\n",
        "plt.figure(figsize=(10, 10))\n",
        "for images, labels in train.take(1):\n",
        "  for i in range(9):\n",
        "    ax = plt.subplot(3, 3, i + 1)\n",
        "    plt.imshow(images[i].numpy().astype('uint8'))\n",
        "    plt.title(class_names[labels[i]])\n",
        "    plt.axis(\"off\")"
      ],
      "metadata": {
        "id": "E4EdlpiecCMP"
      },
      "execution_count": null,
      "outputs": []
    },
    {
      "cell_type": "code",
      "source": [
        "for image_batch, labels_batch in train:  \n",
        "  print(image_batch.shape)\n",
        "  print(labels_batch.shape)\n",
        "  break"
      ],
      "metadata": {
        "id": "feGv3vV4cLSo"
      },
      "execution_count": null,
      "outputs": []
    },
    {
      "cell_type": "code",
      "source": [
        "from tensorflow.keras import layers\n",
        "normalization_layer = layers.experimental.preprocessing.Rescaling(1./255) \n",
        "normalized_ds = train.map(lambda x, y: (normalization_layer(x), y))\n",
        "image_batch, labels_batch = next(iter(normalized_ds))"
      ],
      "metadata": {
        "id": "aE4hh2I1cP6X"
      },
      "execution_count": null,
      "outputs": []
    },
    {
      "cell_type": "markdown",
      "source": [
        "# Layer"
      ],
      "metadata": {
        "id": "mSSv0fMMDDoV"
      }
    },
    {
      "cell_type": "code",
      "source": [
        "class_names = train.class_names\n",
        "num_classes = len(class_names)"
      ],
      "metadata": {
        "id": "Q1nhMyFKuUY0"
      },
      "execution_count": null,
      "outputs": []
    },
    {
      "cell_type": "code",
      "source": [
        "num_classes"
      ],
      "metadata": {
        "id": "z0dq9Eqj21qE"
      },
      "execution_count": null,
      "outputs": []
    },
    {
      "cell_type": "code",
      "source": [
        " layers.Rescaling(1./255, input_shape=(140,140, 3)),\n",
        "  layers.Conv2D(16, 3, padding='same', activation='relu'),\n",
        "  layers.MaxPooling2D(),\n",
        "  layers.Conv2D(32, 3, padding='same', activation='relu'),\n",
        "  layers.MaxPooling2D(),\n",
        "  layers.Conv2D(64, 3, padding='same', activation='relu'),\n",
        "  layers.MaxPooling2D(),\n",
        "  layers.Flatten(),\n",
        "  layers.Dense(128, activation='relu'),\n",
        "  layers.Dense(num_classes) // in your case layers.Dense(3)"
      ],
      "metadata": {
        "id": "iZYJTEBm5Sjj"
      },
      "execution_count": null,
      "outputs": []
    },
    {
      "cell_type": "code",
      "source": [
        "class_names = train.class_names\n",
        "num_classes = len(class_names)\n",
        "model = tf.keras.Sequential([\n",
        "  layers.Rescaling(1./255),\n",
        "  layers.Conv2D(32,(3,3), activation='relu', input_shape=(150,150,3)),\n",
        "  layers.MaxPool2D((2,2)),\n",
        "  layers.Conv2D(64,(3,3),activation='relu'),\n",
        "  layers.MaxPool2D(2,2),\n",
        "  layers.Conv2D(128,(3,3), activation='relu'),\n",
        "  layers.MaxPool2D(2,2),\n",
        "  layers.Conv2D(128,(3,3), activation='relu'),\n",
        "  layers.MaxPool2D(2,2),\n",
        "  layers.Flatten(),\n",
        "  layers.Dropout(0.5),\n",
        "  layers.Dense(512, activation='relu'),\n",
        "  layers.Dense(num_classes)\n",
        "])"
      ],
      "metadata": {
        "id": "S1_kTcfQ5Uyq"
      },
      "execution_count": null,
      "outputs": []
    },
    {
      "cell_type": "code",
      "source": [
        "\n",
        "model = tf.keras.Sequential([\n",
        "  layers.Conv2D(16, 3, padding='same', activation='relu'),\n",
        "  layers.MaxPooling2D(),\n",
        "  layers.Conv2D(32, 3, padding='same', activation='relu'),\n",
        "  layers.MaxPooling2D(),\n",
        "  layers.Conv2D(64, 3, padding='same', activation='relu'),\n",
        "  layers.MaxPooling2D(),\n",
        "  layers.Flatten(),\n",
        "  layers.Dense(128, activation='relu'),\n",
        "  layers.Dense(3, activation='softmax')\n",
        "])"
      ],
      "metadata": {
        "id": "dhkjnRllt6Zb"
      },
      "execution_count": null,
      "outputs": []
    },
    {
      "cell_type": "code",
      "source": [
        "class_names = train.class_names\n",
        "num_classes = len(class_names)\n",
        "model = tf.keras.Sequential([\n",
        "  \n",
        "  layers.Conv2D(16, 3, padding='same', activation='relu'),\n",
        "  \n",
        "  layers.Conv2D(32, 3, padding='same', activation='relu'),\n",
        "  \n",
        "  layers.Conv2D(64, 3, padding='same', activation='relu'),\n",
        "  layers.Dense(128, activation='relu'),\n",
        "  layers.Dense(3, activation='softmax')\n",
        "])"
      ],
      "metadata": {
        "id": "mLQbNj7GBA7x"
      },
      "execution_count": null,
      "outputs": []
    },
    {
      "cell_type": "code",
      "source": [
        "model.add(Dropout(0.2))\n",
        "model.add(Dense(10, activation='softmax'))"
      ],
      "metadata": {
        "id": "yNLmC7V2A-rD"
      },
      "execution_count": null,
      "outputs": []
    },
    {
      "cell_type": "code",
      "source": [
        "model.compile(optimizer='adam',\n",
        "              loss=tf.keras.losses.SparseCategoricalCrossentropy(from_logits=True),\n",
        "              metrics=['accuracy'])"
      ],
      "metadata": {
        "id": "uRP3FKYdcXAG"
      },
      "execution_count": null,
      "outputs": []
    },
    {
      "cell_type": "code",
      "source": [
        "model.compile(loss = tf.keras.losses.CategoricalCrossentropy(),optimizer = 'adam', metrics = ['accuracy']) "
      ],
      "metadata": {
        "id": "2cvGh6SZ5tZb"
      },
      "execution_count": null,
      "outputs": []
    },
    {
      "cell_type": "code",
      "source": [
        "\n",
        "from keras import callbacks\n",
        "earlystopping = callbacks.EarlyStopping(monitor =\"val_loss\", \n",
        "                                        mode =\"min\", patience = 5, \n",
        "                                        restore_best_weights = True)"
      ],
      "metadata": {
        "id": "rGoXO2d4WGhX"
      },
      "execution_count": null,
      "outputs": []
    },
    {
      "cell_type": "code",
      "source": [
        "earlystopping = keras.callbacks.EarlyStopping(monitor='val_loss',\n",
        "                              min_delta=0,\n",
        "                              patience=10,\n",
        "                              verbose=0, mode='auto')"
      ],
      "metadata": {
        "id": "N4is0kejm55t"
      },
      "execution_count": null,
      "outputs": []
    },
    {
      "cell_type": "code",
      "source": [
        "epochs=20\n",
        "history = model.fit(train,validation_data=val,epochs=epochs,callbacks=earlystopping\n",
        "                    )"
      ],
      "metadata": {
        "id": "CXJuPCchc4ch"
      },
      "execution_count": null,
      "outputs": []
    },
    {
      "cell_type": "code",
      "source": [
        "model.summary()"
      ],
      "metadata": {
        "id": "x1hkoH_5x0UI"
      },
      "execution_count": null,
      "outputs": []
    },
    {
      "cell_type": "code",
      "source": [
        "import matplotlib.pyplot as plt"
      ],
      "metadata": {
        "id": "vcK1rqRU9Ctp"
      },
      "execution_count": null,
      "outputs": []
    },
    {
      "cell_type": "code",
      "source": [
        "plt.imshow(X_test[12],cmap='Greys')\n",
        "pred = model.predict(X_test[image_index].reshape(1, 28, 28, 1))\n",
        "print(\"Prediction probability array is:\")\n",
        "\n",
        "count = 0\n",
        "\n",
        "for i in pred.squeeze():\n",
        "    print(count, \":\", i)\n",
        "    count += 1\n",
        "\n",
        "print(\"From which the max choice is:\", pred.argmax())"
      ],
      "metadata": {
        "id": "E2sWhMZR83Dp"
      },
      "execution_count": null,
      "outputs": []
    },
    {
      "cell_type": "code",
      "source": [
        "loss1, acc1 = model.evaluate(test)\n",
        "print(f\"Loss is {loss1},\\nAccuracy is {acc1*100},\\nMSE is \")"
      ],
      "metadata": {
        "id": "Lrw4aNwZwr-e"
      },
      "execution_count": null,
      "outputs": []
    },
    {
      "cell_type": "code",
      "source": [
        "test_loss, test_acc = model.evaluate(train)\n",
        "\n",
        "print('\\nTest accuracy:', test_acc)"
      ],
      "metadata": {
        "id": "K_QC6_xVFwgL"
      },
      "execution_count": null,
      "outputs": []
    },
    {
      "cell_type": "code",
      "source": [
        "test_loss, test_acc = model.evaluate(val)\n",
        "\n",
        "print('\\nTest accuracy:', test_acc)"
      ],
      "metadata": {
        "id": "egAsZgEVF06b"
      },
      "execution_count": null,
      "outputs": []
    },
    {
      "cell_type": "code",
      "source": [
        "test_loss, test_acc = model.evaluate(train)\n",
        "\n",
        "print('\\nTest accuracy:', test_acc)"
      ],
      "metadata": {
        "id": "L93BBy5mhfT0"
      },
      "execution_count": null,
      "outputs": []
    },
    {
      "cell_type": "code",
      "source": [
        "test_loss, test_acc = model.evaluate(train)\n",
        "\n",
        "print('\\nTest accuracy:', test_acc)"
      ],
      "metadata": {
        "id": "eJPuNsVneLVY"
      },
      "execution_count": null,
      "outputs": []
    },
    {
      "cell_type": "code",
      "source": [
        "test_loss, test_acc = model.evaluate(val)\n",
        "\n",
        "print('\\nTest accuracy:', test_acc)"
      ],
      "metadata": {
        "id": "3SmCPpAyejAn"
      },
      "execution_count": null,
      "outputs": []
    },
    {
      "cell_type": "code",
      "source": [
        "test_loss, test_acc = model.evaluate(val)\n",
        "\n",
        "print('\\nTest accuracy:', test_acc)"
      ],
      "metadata": {
        "id": "kHOQlGPKvEDE"
      },
      "execution_count": null,
      "outputs": []
    },
    {
      "cell_type": "code",
      "source": [
        "test_loss, test_acc = model.evaluate(train)\n",
        "\n",
        "print('\\nTest accuracy:', test_acc)"
      ],
      "metadata": {
        "id": "o27jTi3b5m2C"
      },
      "execution_count": null,
      "outputs": []
    },
    {
      "cell_type": "code",
      "source": [
        "import pickle as p\n",
        "from tensorflow.keras.models import model_from_json\n",
        "with open('history_model', 'wb') as file:\n",
        "    p.dump(history.history, file) \n",
        "filepath='model1.h5'\n",
        "model.save(filepath)\n",
        "filepath_model = 'model1.json'\n",
        "filepath_weights = 'weights_model.h5'\n",
        "model_json = model.to_json()\n",
        "with open(filepath_model, \"w\") as json_file:\n",
        "    json_file.write(model_json)\n",
        "    model.save_weights('weights_model.h5')\n",
        "    print(\"Saved model to disk !!\")"
      ],
      "metadata": {
        "id": "O5MKecZTgBxO"
      },
      "execution_count": null,
      "outputs": []
    },
    {
      "cell_type": "code",
      "source": [
        "\n",
        "import plotly\n",
        "import plotly.graph_objs as go\n",
        "from tensorflow.keras.models import load_model\n",
        "with open('history_model', 'rb') as file:\n",
        "     his = p.load(file)\n",
        "h1 = go.Scatter(y=his['loss'], mode=\"lines\", line=dict(width=2,color='blue'),name=\"loss\")\n",
        "h2 = go.Scatter(y=his['val_loss'],mode=\"lines\", line=dict(width=2,color='red'),name=\"val_loss\")   \n",
        "data = [h1,h2]\n",
        "layout1 = go.Layout(title='Loss',xaxis=dict(title='epochs'),yaxis=dict(title=''))\n",
        "fig1 = go.Figure(data, layout=layout1)\n",
        "plotly.offline.iplot(fig1, filename=\"testMNIST\")\n",
        "\n",
        "predict_model = load_model(filepath) \n",
        "predict_model.summary()\n",
        "\n",
        "with open(filepath_model, 'r') as f:\n",
        "    loaded_model_json = f.read()\n",
        "    predict_model = model_from_json(loaded_model_json)\n",
        "    predict_model.load_weights(filepath_weights)    \n",
        "    print(\"Loaded model from disk\")"
      ],
      "metadata": {
        "id": "HmZ54maQeUc3"
      },
      "execution_count": null,
      "outputs": []
    },
    {
      "cell_type": "code",
      "source": [
        "\n",
        "import plotly\n",
        "import plotly.graph_objs as go\n",
        "from tensorflow.keras.models import load_model\n",
        "with open('history_model', 'rb') as file:\n",
        "     his = p.load(file)\n",
        "h1 = go.Scatter(y=his['loss'], mode=\"lines\", line=dict(width=2,color='blue'),name=\"loss\")\n",
        "h2 = go.Scatter(y=his['val_loss'],mode=\"lines\", line=dict(width=2,color='red'),name=\"val_loss\")   \n",
        "data = [h1,h2]\n",
        "layout1 = go.Layout(title='Loss',xaxis=dict(title='epochs'),yaxis=dict(title=''))\n",
        "fig1 = go.Figure(data, layout=layout1)\n",
        "plotly.offline.iplot(fig1, filename=\"testMNIST\")\n",
        "\n",
        "predict_model = load_model(filepath) \n",
        "predict_model.summary()\n",
        "\n",
        "with open(filepath_model, 'r') as f:\n",
        "    loaded_model_json = f.read()\n",
        "    predict_model = model_from_json(loaded_model_json)\n",
        "    predict_model.load_weights(filepath_weights)    \n",
        "    print(\"Loaded model from disk\")"
      ],
      "metadata": {
        "id": "806rD3lvgJFD"
      },
      "execution_count": null,
      "outputs": []
    },
    {
      "cell_type": "code",
      "source": [
        "from IPython.display import Image\n",
        "from tensorflow import keras\n",
        "test_path = (\"/content/test (2).jpg\")\n",
        "img = keras.preprocessing.image.load_img(test_path)\n",
        "img_array = keras.preprocessing.image.img_to_array(img)\n",
        "img_array = tf.expand_dims(img_array, 0) # Create a batch\n",
        "predictions = predict_model.predict(img_array)\n",
        "score = tf.nn.softmax(predictions[0])\n",
        "print(\"Apple = \",score[0],\"\\nGreen Apple = \",score[1],\"\\nGruva = \",score[2],\"\\nOrange = \",score[3],\"\\nStrawberry = \",score[4])\n",
        "display(Image(filename=test_path))\n",
        "print(\"Accuracy is {} {:.2f}%.\".format(class_names[np.argmax(score)], 100 * np.max(score)))\n"
      ],
      "metadata": {
        "id": "3t0o_hQQgURD"
      },
      "execution_count": null,
      "outputs": []
    },
    {
      "cell_type": "code",
      "source": [
        "sunflower_url = \"/content/test.jpg\"\n",
        "sunflower_path = tf.keras.utils.get_file(\"/content/test.jpg\")\n",
        "\n",
        "img = tf.keras.utils.load_img(\n",
        "    sunflower_path, target_size=(img_height, img_width)\n",
        ")\n",
        "img_array = tf.keras.utils.img_to_array(img)\n",
        "img_array = tf.expand_dims(img_array, 0) # Create a batch\n",
        "\n",
        "predictions = model.predict(img_array)\n",
        "score = tf.nn.softmax(predictions[0])\n",
        "\n",
        "print(\n",
        "    \"This image most likely belongs to {} with a {:.2f} percent confidence.\"\n",
        "    .format(class_names[np.argmax(score)], 100 * np.max(score))\n",
        ")"
      ],
      "metadata": {
        "id": "NbtFVb9AwkDk"
      },
      "execution_count": null,
      "outputs": []
    },
    {
      "cell_type": "code",
      "source": [
        "datadir = \"/content/drive/MyDrive/โครงงาน เพชร/รูป diamond/EX/test.jpg\" #path ของ dataset\n",
        "data = pathlib.Path(datadir)   \n",
        "image_count = len(list(data.glob('*/*.jpg')))  #ขนาดของ dataset \n",
        "print(\"จำนวนรูปภาพที่มี .jpg : \",image_count)"
      ],
      "metadata": {
        "id": "TkA1T1uexz5r"
      },
      "execution_count": null,
      "outputs": []
    },
    {
      "cell_type": "code",
      "source": [
        "from PIL import Image\n",
        "img = Image.open(\"/content/test (2).jpg\")"
      ],
      "metadata": {
        "id": "7oFruoxc0y0s"
      },
      "execution_count": null,
      "outputs": []
    },
    {
      "cell_type": "code",
      "source": [
        "img "
      ],
      "metadata": {
        "id": "_nOfIG_W4OIL"
      },
      "execution_count": null,
      "outputs": []
    },
    {
      "cell_type": "code",
      "source": [
        "img = np.array(img)"
      ],
      "metadata": {
        "id": "tSj3H2k01LZy"
      },
      "execution_count": null,
      "outputs": []
    },
    {
      "cell_type": "code",
      "source": [
        "img_array = tf.keras.utils.img_to_array(img)\n",
        "img_array = tf.expand_dims(img_array, 0) # Create a batch"
      ],
      "metadata": {
        "id": "MO-6c-Jf2APT"
      },
      "execution_count": null,
      "outputs": []
    },
    {
      "cell_type": "code",
      "source": [
        "predictions = model.predict(img_array)\n",
        "score = tf.nn.softmax(predictions[0])\n",
        "\n",
        "print(\n",
        "    \"This image most likely belongs to {} with a {:.2f} percent confidence.\"\n",
        "    .format(class_names[np.argmax(score)], 100 * np.max(score))\n",
        ")"
      ],
      "metadata": {
        "id": "EfJc55tlwsSE"
      },
      "execution_count": null,
      "outputs": []
    },
    {
      "cell_type": "markdown",
      "source": [
        "# Tune"
      ],
      "metadata": {
        "id": "AeDxKtBWtE8W"
      }
    },
    {
      "cell_type": "code",
      "source": [
        "pip install -q -U keras-tuner"
      ],
      "metadata": {
        "id": "BLxEox_wJ72d"
      },
      "execution_count": null,
      "outputs": []
    },
    {
      "cell_type": "code",
      "source": [
        "import keras_tuner as kt"
      ],
      "metadata": {
        "id": "Xn6OoIhbJ-q9"
      },
      "execution_count": null,
      "outputs": []
    },
    {
      "cell_type": "code",
      "source": [
        "def model_builder(hp):\n",
        "  model = keras.Sequential()\n",
        "  model.add(keras.layers.Flatten())\n",
        "\n",
        "  # Tune the number of units in the first Dense layer\n",
        "  # Choose an optimal value between 32-512\n",
        "  hp_units = hp.Int('units', min_value=32, max_value=512, step=32)\n",
        "  model.add(keras.layers.Dense(units=hp_units, activation='relu'))\n",
        "  model.add(keras.layers.Dense(3))\n",
        "\n",
        "  # Tune the learning rate for the optimizer\n",
        "  # Choose an optimal value from 0.01, 0.001, or 0.0001\n",
        "  hp_learning_rate = hp.Choice('learning_rate', values=[1e-2, 1e-3, 1e-4])\n",
        "\n",
        "  model.compile(optimizer=keras.optimizers.Adam(learning_rate=hp_learning_rate),\n",
        "                loss=keras.losses.SparseCategoricalCrossentropy(from_logits=True),\n",
        "                metrics=['accuracy'])\n",
        "\n",
        "  return model"
      ],
      "metadata": {
        "id": "C1JDGX0vtERd"
      },
      "execution_count": null,
      "outputs": []
    },
    {
      "cell_type": "code",
      "source": [
        "tuner = kt.Hyperband(model_builder,\n",
        "                     objective='val_accuracy',\n",
        "                     max_epochs=10,\n",
        "                     factor=3,\n",
        "                     directory='my_dir',\n",
        "                     project_name='intro_to_kt')"
      ],
      "metadata": {
        "id": "DA7QSXMqJ0CO"
      },
      "execution_count": null,
      "outputs": []
    },
    {
      "cell_type": "code",
      "source": [
        "stop_early = tf.keras.callbacks.EarlyStopping(monitor='val_loss', patience=5)"
      ],
      "metadata": {
        "id": "yQ2yUiTxOWYX"
      },
      "execution_count": null,
      "outputs": []
    },
    {
      "cell_type": "code",
      "source": [
        "tuner.search(train, epochs=50, validation_data=val, callbacks=[stop_early])\n",
        "\n",
        "# Get the optimal hyperparameters\n",
        "best_hps=tuner.get_best_hyperparameters(num_trials=1)[0]\n",
        "\n",
        "print(f\"\"\"\n",
        "The hyperparameter search is complete. The optimal number of units in the first densely-connected\n",
        "layer is {best_hps.get('units')} and the optimal learning rate for the optimizer\n",
        "is {best_hps.get('learning_rate')}.\n",
        "\"\"\")"
      ],
      "metadata": {
        "id": "6Yk9fUApOkt_"
      },
      "execution_count": null,
      "outputs": []
    },
    {
      "cell_type": "code",
      "source": [
        "model = tuner.hypermodel.build(best_hps)\n",
        "history = model.fit(train, epochs=50, validation_data=val)\n",
        "\n",
        "val_acc_per_epoch = history.history['val_accuracy']\n",
        "best_epoch = val_acc_per_epoch.index(max(val_acc_per_epoch)) + 1\n",
        "print('Best epoch: %d' % (best_epoch,))"
      ],
      "metadata": {
        "id": "B3uKwO2DduEE"
      },
      "execution_count": null,
      "outputs": []
    },
    {
      "cell_type": "code",
      "source": [
        "def process(image,label):\n",
        "    image = tf.cast(image/255. ,tf.float32)\n",
        "    return image,label"
      ],
      "metadata": {
        "id": "8p_0MT9XKJDe"
      },
      "execution_count": null,
      "outputs": []
    },
    {
      "cell_type": "code",
      "source": [],
      "metadata": {
        "id": "DNPgpFNOOoKX"
      },
      "execution_count": null,
      "outputs": []
    },
    {
      "cell_type": "code",
      "source": [
        "val = val.map(process)\n",
        "train = train.map(process)"
      ],
      "metadata": {
        "id": "2Gcuh9GrKly-"
      },
      "execution_count": null,
      "outputs": []
    },
    {
      "cell_type": "code",
      "source": [
        "train"
      ],
      "metadata": {
        "id": "lrUfHH4ZK7YA"
      },
      "execution_count": null,
      "outputs": []
    }
  ]
}